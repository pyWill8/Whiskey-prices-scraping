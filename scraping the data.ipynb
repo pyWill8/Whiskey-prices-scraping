{
 "cells": [
  {
   "cell_type": "code",
   "execution_count": 2,
   "metadata": {},
   "outputs": [],
   "source": [
    "import requests\n",
    "from bs4 import BeautifulSoup\n",
    "import pandas as pd\n",
    "\n",
    "pd.set_option(\"display.max_rows\", 2000)\n",
    "\n",
    "webpage_response =requests.get(\"https://www.scotchwhiskyauctions.com/auctions/181-the-137th-auction/\")\n",
    "\n",
    "webpage = webpage_response.content\n",
    "soup = BeautifulSoup(webpage, \"html.parser\")\n",
    "\n"
   ]
  },
  {
   "cell_type": "code",
   "execution_count": 3,
   "metadata": {},
   "outputs": [
    {
     "name": "stdout",
     "output_type": "stream",
     "text": [
      "[<p class=\"sold\">Sold for £90</p>, <p class=\"sold\">Sold for £90</p>, <p class=\"sold\">Sold for £65</p>, <p class=\"sold\">Sold for £230</p>, <p class=\"sold\">Sold for £170</p>, <p class=\"sold\">Sold for £60</p>, <p class=\"sold\">Sold for £85</p>, <p class=\"sold\">Sold for £80</p>, <p class=\"sold\">Sold for £75</p>, <p class=\"sold\">Sold for £80</p>, <p class=\"sold\">Sold for £80</p>, <p class=\"sold\">Sold for £260</p>, <p class=\"sold\">Sold for £25</p>, <p class=\"sold\">Sold for £60</p>, <p class=\"sold\">Sold for £75</p>, <p class=\"sold\">Sold for £75</p>, <p class=\"sold\">Sold for £80</p>, <p class=\"sold\">Sold for £75</p>, <p class=\"sold\">Sold for £30</p>]\n"
     ]
    }
   ],
   "source": [
    "print(soup.find_all(attrs={\"class\": \"sold\"}))\n",
    "#print(soup.find_all(\"p\"))"
   ]
  },
  {
   "cell_type": "code",
   "execution_count": 4,
   "metadata": {},
   "outputs": [
    {
     "name": "stdout",
     "output_type": "stream",
     "text": [
      "[<a class=\"lot\" href=\"auctions/181-the-137th-auction/609239-glenfarclas-8-year-old-for-whisky-over-ice-festival-2022-/\"><div class=\"hasnotbid\" id=\"status_609239\"></div><div class=\"aucimgw\"><div class=\"aucimg hasretina\" rel=\"orig224\" style=\"background-image: url('https://d3suvtcq00dftb.cloudfront.net/images/32aacb27566a470d8974d1c1e4744550-med.jpg');\"></div></div><h4>Glenfarclas 8 Year Old For Whisky Over Ice Festival 2022 </h4><h6>Lot no 137-07769</h6><div id=\"info_609239\"><p class=\"bndone\">This lot is no longer available for sale.<br/>(Price £39)</p></div></a>, <a class=\"lot\" href=\"auctions/181-the-137th-auction/604804-on-a-saw-mill-10-year-old-islay-blended-malt/\"><div class=\"hasnotbid\" id=\"status_604804\"></div><div class=\"aucimgw\"><div class=\"aucimg hasretina\" rel=\"orig224\" style=\"background-image: url('https://d3suvtcq00dftb.cloudfront.net/images/716bf42ba0261256845efea455e23b55-med.jpg');\"></div></div><h4>'On A Saw Mill' 10 Year Old Islay Blended Malt</h4><h6>Lot no 137-03432</h6><div id=\"info_604804\"><p class=\"sold\">Sold for £90</p></div></a>, <a class=\"lot\" href=\"auctions/181-the-137th-auction/603808-yer-aunt-fannys-cats-arsehole-whiskyblender-50cl/\"><div class=\"hasnotbid\" id=\"status_603808\"></div><div class=\"aucimgw\"><div class=\"aucimg hasretina\" rel=\"orig224\" style=\"background-image: url('https://d3suvtcq00dftb.cloudfront.net/images/1e00dc454df450d0940e3b794c2a0fd1-med.jpg');\"></div></div><h4>'Yer Aunt Fanny's Cat's Arsehole' Whiskyblender 50cl</h4><h6>Lot no 137-02483</h6><div id=\"info_603808\"><p class=\"sold\">Sold for £90</p></div></a>, <a class=\"lot\" href=\"auctions/181-the-137th-auction/596096-a-speyside-13-year-old-cadenheads/\"><div class=\"hasnotbid\" id=\"status_596096\"></div><div class=\"aucimgw\"><div class=\"aucimg hasretina\" rel=\"orig224\" style=\"background-image: url('https://d3suvtcq00dftb.cloudfront.net/images/df2e05d6b68945e257c77c8a24f82a5c-med.jpg');\"></div></div><h4>A Speyside 13 Year Old Cadenhead's</h4><h6>Lot no 137-00255</h6><div id=\"info_596096\"><p class=\"sold\">Sold for £65</p></div></a>, <a class=\"lot\" href=\"auctions/181-the-137th-auction/607176-a-speyside-1989-32-year-old-thompson-bros/\"><div class=\"hasnotbid\" id=\"status_607176\"></div><div class=\"aucimgw\"><div class=\"aucimg hasretina\" rel=\"orig224\" style=\"background-image: url('https://d3suvtcq00dftb.cloudfront.net/images/91a7a772a16fb8c601301e61008ae83e-med.jpg');\"></div></div><h4>A Speyside 1989 32 Year Old Thompson Bros</h4><h6>Lot no 137-05738</h6><div id=\"info_607176\"><p class=\"sold\">Sold for £230</p></div></a>, <a class=\"lot\" href=\"auctions/181-the-137th-auction/606262-a-speyside-2003-18-year-old-cadenheads-warehouse-tasting/\"><div class=\"hasnotbid\" id=\"status_606262\"></div><div class=\"aucimgw\"><div class=\"aucimg hasretina\" rel=\"orig224\" style=\"background-image: url('https://d3suvtcq00dftb.cloudfront.net/images/407d4761bed4bf570cccc666fd3f8c58-med.jpg');\"></div></div><h4>A Speyside 2003 18 Year Old Cadenhead's Warehouse Tasting</h4><h6>Lot no 137-04841</h6><div id=\"info_606262\"><p class=\"sold\">Sold for £170</p></div></a>, <a class=\"lot\" href=\"auctions/181-the-137th-auction/605873-a-speyside-2010-11-year-old-thompson-bros-/\"><div class=\"hasnotbid\" id=\"status_605873\"></div><div class=\"aucimgw\"><div class=\"aucimg hasretina\" rel=\"orig224\" style=\"background-image: url('https://d3suvtcq00dftb.cloudfront.net/images/e5f43203b5950505fecfbbeaad28f3f7-med.jpg');\"></div></div><h4>A Speyside 2010 11 Year Old Thompson Bros </h4><h6>Lot no 137-04467</h6><div id=\"info_605873\"><p class=\"sold\">Sold for £60</p></div></a>, <a class=\"lot\" href=\"auctions/181-the-137th-auction/606480-a-speyside-distillery-18-year-old-cadenheads/\"><div class=\"hasnotbid\" id=\"status_606480\"></div><div class=\"aucimgw\"><div class=\"aucimg hasretina\" rel=\"orig224\" style=\"background-image: url('https://d3suvtcq00dftb.cloudfront.net/images/c3e21ad4012829c503bb3cb050599983-med.jpg');\"></div></div><h4>A Speyside Distillery 18 Year Old Cadenhead's</h4><h6>Lot no 137-05058</h6><div id=\"info_606480\"><p class=\"sold\">Sold for £85</p></div></a>, <a class=\"lot\" href=\"auctions/181-the-137th-auction/605619-a-speyside-distillery-2001-18-year-old-cadenheads-virtual-open-day-2020/\"><div class=\"hasnotbid\" id=\"status_605619\"></div><div class=\"aucimgw\"><div class=\"aucimg hasretina\" rel=\"orig224\" style=\"background-image: url('https://d3suvtcq00dftb.cloudfront.net/images/1e47882df8adac188f8a7029cea36983-med.jpg');\"></div></div><h4>A Speyside Distillery 2001 18 Year Old Cadenhead's Virtual Open Day 2020</h4><h6>Lot no 137-04218</h6><div id=\"info_605619\"><p class=\"sold\">Sold for £80</p></div></a>, <a class=\"lot\" href=\"auctions/181-the-137th-auction/605214-a-speyside-distillery-2008-12-year-old-single-malts-of-scotland-parcel-no6/\"><div class=\"hasnotbid\" id=\"status_605214\"></div><div class=\"aucimgw\"><div class=\"aucimg hasretina\" rel=\"orig224\" style=\"background-image: url('https://d3suvtcq00dftb.cloudfront.net/images/041aa6def143ac09f0936af30d8c62f6-med.jpg');\"></div></div><h4>A Speyside Distillery 2008 12 Year Old Single Malts Of Scotland Parcel No.6</h4><h6>Lot no 137-03814</h6><div id=\"info_605214\"><p class=\"sold\">Sold for £75</p></div></a>, <a class=\"lot\" href=\"auctions/181-the-137th-auction/594430-a-speyside-distillery-2008-12-year-old-single-malts-of-scotland-parcel-no6/\"><div class=\"hasnotbid\" id=\"status_594430\"></div><div class=\"aucimgw\"><div class=\"aucimg hasretina\" rel=\"orig224\" style=\"background-image: url('https://d3suvtcq00dftb.cloudfront.net/images/14b42b85f99b043dc0bd0497aa5c11da-med.jpg');\"></div></div><h4>A Speyside Distillery 2008 12 Year Old Single Malts Of Scotland Parcel No.6</h4><h6>Lot no 137-00111</h6><div id=\"info_594430\"><p class=\"sold\">Sold for £80</p></div></a>, <a class=\"lot\" href=\"auctions/181-the-137th-auction/608381-a-speyside-distillery-2008-12-year-old-single-malts-of-scotland-parcel-no6/\"><div class=\"hasnotbid\" id=\"status_608381\"></div><div class=\"aucimgw\"><div class=\"aucimg hasretina\" rel=\"orig224\" style=\"background-image: url('https://d3suvtcq00dftb.cloudfront.net/images/cf92cd0a4709b0ceb20901e44d9dd930-med.jpg');\"></div></div><h4>A Speyside Distillery 2008 12 Year Old Single Malts Of Scotland Parcel No.6</h4><h6>Lot no 137-06918</h6><div id=\"info_608381\"><p class=\"sold\">Sold for £80</p></div></a>, <a class=\"lot\" href=\"auctions/181-the-137th-auction/605213-a-speyside-distillery-2008-12-year-old-the-whisky-exchange/\"><div class=\"hasnotbid\" id=\"status_605213\"></div><div class=\"aucimgw\"><div class=\"aucimg hasretina\" rel=\"orig224\" style=\"background-image: url('https://d3suvtcq00dftb.cloudfront.net/images/b87db0211309f880a342149f624d4e56-med.jpg');\"></div></div><h4>A Speyside Distillery 2008 12 Year Old The Whisky Exchange</h4><h6>Lot no 137-03813</h6><div id=\"info_605213\"><p class=\"sold\">Sold for £260</p></div></a>, <a class=\"lot\" href=\"auctions/181-the-137th-auction/605049-av-wees-amsterdamsche-oude-genever/\"><div class=\"hasnotbid\" id=\"status_605049\"></div><div class=\"aucimgw\"><div class=\"aucimg hasretina\" rel=\"orig224\" style=\"background-image: url('https://d3suvtcq00dftb.cloudfront.net/images/37683062bae4f95dde82e1f24713af30-med.jpg');\"></div></div><h4>A.V Wees Amsterdamsche Oude Genever</h4><h6>Lot no 137-03654</h6><div id=\"info_605049\"><p class=\"sold\">Sold for £25</p></div></a>, <a class=\"lot\" href=\"auctions/181-the-137th-auction/602296-aber-falls-distillery-exclusive/\"><div class=\"hasnotbid\" id=\"status_602296\"></div><div class=\"aucimgw\"><div class=\"aucimg hasretina\" rel=\"orig224\" style=\"background-image: url('https://d3suvtcq00dftb.cloudfront.net/images/c740d4a799174e40c4d876297e0462dc-med.jpg');\"></div></div><h4>Aber Falls Distillery Exclusive</h4><h6>Lot no 137-01187</h6><div id=\"info_602296\"><p class=\"sold\">Sold for £60</p></div></a>, <a class=\"lot\" href=\"auctions/181-the-137th-auction/609986-aber-falls-inaugural-release/\"><div class=\"hasnotbid\" id=\"status_609986\"></div><div class=\"aucimgw\"><div class=\"aucimg hasretina\" rel=\"orig224\" style=\"background-image: url('https://d3suvtcq00dftb.cloudfront.net/images/cd08b1010c5d438cbf6e404c41751e53-med.jpg');\"></div></div><h4>Aber Falls Inaugural Release</h4><h6>Lot no 137-08190</h6><div id=\"info_609986\"><p class=\"sold\">Sold for £75</p></div></a>, <a class=\"lot\" href=\"auctions/181-the-137th-auction/603287-aber-falls-inaugural-release/\"><div class=\"hasnotbid\" id=\"status_603287\"></div><div class=\"aucimgw\"><div class=\"aucimg hasretina\" rel=\"orig224\" style=\"background-image: url('https://d3suvtcq00dftb.cloudfront.net/images/a9b55ffca433fb4420908de72b17d7ca-med.jpg');\"></div></div><h4>Aber Falls Inaugural Release</h4><h6>Lot no 137-01977</h6><div id=\"info_603287\"><p class=\"sold\">Sold for £75</p></div></a>, <a class=\"lot\" href=\"auctions/181-the-137th-auction/608444-aber-falls-inaugural-release/\"><div class=\"hasnotbid\" id=\"status_608444\"></div><div class=\"aucimgw\"><div class=\"aucimg hasretina\" rel=\"orig224\" style=\"background-image: url('https://d3suvtcq00dftb.cloudfront.net/images/ec8bceeb80d9737b00f2098d257cf62a-med.jpg');\"></div></div><h4>Aber Falls Inaugural Release</h4><h6>Lot no 137-06981</h6><div id=\"info_608444\"><p class=\"sold\">Sold for £80</p></div></a>, <a class=\"lot\" href=\"auctions/181-the-137th-auction/608066-aber-falls-inaugural-release-/\"><div class=\"hasnotbid\" id=\"status_608066\"></div><div class=\"aucimgw\"><div class=\"aucimg hasretina\" rel=\"orig224\" style=\"background-image: url('https://d3suvtcq00dftb.cloudfront.net/images/653102f27108d2a9799f45cbaf0e76cb-med.jpg');\"></div></div><h4>Aber Falls Inaugural Release </h4><h6>Lot no 137-06611</h6><div id=\"info_608066\"><p class=\"sold\">Sold for £75</p></div></a>, <a class=\"lot\" href=\"auctions/181-the-137th-auction/605943-aberfeldy-12-year-old/\"><div class=\"hasnotbid\" id=\"status_605943\"></div><div class=\"aucimgw\"><div class=\"aucimg hasretina\" rel=\"orig224\" style=\"background-image: url('https://d3suvtcq00dftb.cloudfront.net/images/e3c3ce8f75eafb34eeb98040f712a43c-med.jpg');\"></div></div><h4>Aberfeldy 12 Year Old</h4><h6>Lot no 137-04529</h6><div id=\"info_605943\"><p class=\"sold\">Sold for £30</p></div></a>]\n"
     ]
    }
   ],
   "source": [
    "items = soup.find_all(attrs={\"class\": \"lot\"})\n",
    "print(items)\n",
    "   "
   ]
  },
  {
   "cell_type": "code",
   "execution_count": 5,
   "metadata": {},
   "outputs": [],
   "source": [
    "\n",
    "sold_prices = soup.find_all(attrs={\"class\": \"sold\"})\n",
    "not_sold_prices = soup.find_all(attrs={\"class\": \"bndone\"}) # not sold bottles\n",
    "\n",
    "\n",
    "bottle_ids = soup.find_all(\"h6\")                                          # THINK WE ARE GOING TO BE ABLE TO DELETE ALL THIS AS WE GETTING ALL THE INFO WE WANT ON EACH INDIVIDUAL BOTTLES PAGE. \n",
    "bottle_names = soup.find_all(\"h4\")[3:]\n",
    "all_bottles_prices = soup.find_all(class_= [\"sold\", \"bndone\"])"
   ]
  },
  {
   "cell_type": "code",
   "execution_count": 6,
   "metadata": {},
   "outputs": [
    {
     "name": "stdout",
     "output_type": "stream",
     "text": [
      "['auctions/181-the-137th-auction/609239-glenfarclas-8-year-old-for-whisky-over-ice-festival-2022-/', 'auctions/181-the-137th-auction/604804-on-a-saw-mill-10-year-old-islay-blended-malt/', 'auctions/181-the-137th-auction/603808-yer-aunt-fannys-cats-arsehole-whiskyblender-50cl/', 'auctions/181-the-137th-auction/596096-a-speyside-13-year-old-cadenheads/', 'auctions/181-the-137th-auction/607176-a-speyside-1989-32-year-old-thompson-bros/', 'auctions/181-the-137th-auction/606262-a-speyside-2003-18-year-old-cadenheads-warehouse-tasting/', 'auctions/181-the-137th-auction/605873-a-speyside-2010-11-year-old-thompson-bros-/', 'auctions/181-the-137th-auction/606480-a-speyside-distillery-18-year-old-cadenheads/', 'auctions/181-the-137th-auction/605619-a-speyside-distillery-2001-18-year-old-cadenheads-virtual-open-day-2020/', 'auctions/181-the-137th-auction/605214-a-speyside-distillery-2008-12-year-old-single-malts-of-scotland-parcel-no6/', 'auctions/181-the-137th-auction/594430-a-speyside-distillery-2008-12-year-old-single-malts-of-scotland-parcel-no6/', 'auctions/181-the-137th-auction/608381-a-speyside-distillery-2008-12-year-old-single-malts-of-scotland-parcel-no6/', 'auctions/181-the-137th-auction/605213-a-speyside-distillery-2008-12-year-old-the-whisky-exchange/', 'auctions/181-the-137th-auction/605049-av-wees-amsterdamsche-oude-genever/', 'auctions/181-the-137th-auction/602296-aber-falls-distillery-exclusive/', 'auctions/181-the-137th-auction/609986-aber-falls-inaugural-release/', 'auctions/181-the-137th-auction/603287-aber-falls-inaugural-release/', 'auctions/181-the-137th-auction/608444-aber-falls-inaugural-release/', 'auctions/181-the-137th-auction/608066-aber-falls-inaugural-release-/', 'auctions/181-the-137th-auction/605943-aberfeldy-12-year-old/']\n"
     ]
    }
   ],
   "source": [
    "# Getting the links\n",
    "links = []\n",
    "for a in soup.find_all(\"a\", href=True)[21:41]:\n",
    "    links.append(a[\"href\"])\n",
    "print(links)"
   ]
  },
  {
   "cell_type": "code",
   "execution_count": 7,
   "metadata": {},
   "outputs": [
    {
     "name": "stdout",
     "output_type": "stream",
     "text": [
      "['http://scotchwhiskyauctions.com/auctions/181-the-137th-auction/609239-glenfarclas-8-year-old-for-whisky-over-ice-festival-2022-/', 'http://scotchwhiskyauctions.com/auctions/181-the-137th-auction/604804-on-a-saw-mill-10-year-old-islay-blended-malt/', 'http://scotchwhiskyauctions.com/auctions/181-the-137th-auction/603808-yer-aunt-fannys-cats-arsehole-whiskyblender-50cl/', 'http://scotchwhiskyauctions.com/auctions/181-the-137th-auction/596096-a-speyside-13-year-old-cadenheads/', 'http://scotchwhiskyauctions.com/auctions/181-the-137th-auction/607176-a-speyside-1989-32-year-old-thompson-bros/', 'http://scotchwhiskyauctions.com/auctions/181-the-137th-auction/606262-a-speyside-2003-18-year-old-cadenheads-warehouse-tasting/', 'http://scotchwhiskyauctions.com/auctions/181-the-137th-auction/605873-a-speyside-2010-11-year-old-thompson-bros-/', 'http://scotchwhiskyauctions.com/auctions/181-the-137th-auction/606480-a-speyside-distillery-18-year-old-cadenheads/', 'http://scotchwhiskyauctions.com/auctions/181-the-137th-auction/605619-a-speyside-distillery-2001-18-year-old-cadenheads-virtual-open-day-2020/', 'http://scotchwhiskyauctions.com/auctions/181-the-137th-auction/605214-a-speyside-distillery-2008-12-year-old-single-malts-of-scotland-parcel-no6/', 'http://scotchwhiskyauctions.com/auctions/181-the-137th-auction/594430-a-speyside-distillery-2008-12-year-old-single-malts-of-scotland-parcel-no6/', 'http://scotchwhiskyauctions.com/auctions/181-the-137th-auction/608381-a-speyside-distillery-2008-12-year-old-single-malts-of-scotland-parcel-no6/', 'http://scotchwhiskyauctions.com/auctions/181-the-137th-auction/605213-a-speyside-distillery-2008-12-year-old-the-whisky-exchange/', 'http://scotchwhiskyauctions.com/auctions/181-the-137th-auction/605049-av-wees-amsterdamsche-oude-genever/', 'http://scotchwhiskyauctions.com/auctions/181-the-137th-auction/602296-aber-falls-distillery-exclusive/', 'http://scotchwhiskyauctions.com/auctions/181-the-137th-auction/609986-aber-falls-inaugural-release/', 'http://scotchwhiskyauctions.com/auctions/181-the-137th-auction/603287-aber-falls-inaugural-release/', 'http://scotchwhiskyauctions.com/auctions/181-the-137th-auction/608444-aber-falls-inaugural-release/', 'http://scotchwhiskyauctions.com/auctions/181-the-137th-auction/608066-aber-falls-inaugural-release-/', 'http://scotchwhiskyauctions.com/auctions/181-the-137th-auction/605943-aberfeldy-12-year-old/']\n"
     ]
    }
   ],
   "source": [
    "# Putting the links together as the individual bottles links miss the actual website link.\n",
    "full_links = []\n",
    "for link in links:\n",
    "    full_links.append(\"http://scotchwhiskyauctions.com/\" + link)\n",
    "print(full_links)"
   ]
  },
  {
   "cell_type": "code",
   "execution_count": 8,
   "metadata": {},
   "outputs": [
    {
     "name": "stdout",
     "output_type": "stream",
     "text": [
      "URL #1: http://scotchwhiskyauctions.com/auctions/181-the-137th-auction/609239-glenfarclas-8-year-old-for-whisky-over-ice-festival-2022-/\n",
      "URL #2: http://scotchwhiskyauctions.com/auctions/181-the-137th-auction/604804-on-a-saw-mill-10-year-old-islay-blended-malt/\n",
      "URL #3: http://scotchwhiskyauctions.com/auctions/181-the-137th-auction/603808-yer-aunt-fannys-cats-arsehole-whiskyblender-50cl/\n",
      "URL #4: http://scotchwhiskyauctions.com/auctions/181-the-137th-auction/596096-a-speyside-13-year-old-cadenheads/\n",
      "URL #5: http://scotchwhiskyauctions.com/auctions/181-the-137th-auction/607176-a-speyside-1989-32-year-old-thompson-bros/\n",
      "URL #6: http://scotchwhiskyauctions.com/auctions/181-the-137th-auction/606262-a-speyside-2003-18-year-old-cadenheads-warehouse-tasting/\n",
      "URL #7: http://scotchwhiskyauctions.com/auctions/181-the-137th-auction/605873-a-speyside-2010-11-year-old-thompson-bros-/\n",
      "URL #8: http://scotchwhiskyauctions.com/auctions/181-the-137th-auction/606480-a-speyside-distillery-18-year-old-cadenheads/\n",
      "URL #9: http://scotchwhiskyauctions.com/auctions/181-the-137th-auction/605619-a-speyside-distillery-2001-18-year-old-cadenheads-virtual-open-day-2020/\n",
      "URL #10: http://scotchwhiskyauctions.com/auctions/181-the-137th-auction/605214-a-speyside-distillery-2008-12-year-old-single-malts-of-scotland-parcel-no6/\n",
      "URL #11: http://scotchwhiskyauctions.com/auctions/181-the-137th-auction/594430-a-speyside-distillery-2008-12-year-old-single-malts-of-scotland-parcel-no6/\n",
      "URL #12: http://scotchwhiskyauctions.com/auctions/181-the-137th-auction/608381-a-speyside-distillery-2008-12-year-old-single-malts-of-scotland-parcel-no6/\n",
      "URL #13: http://scotchwhiskyauctions.com/auctions/181-the-137th-auction/605213-a-speyside-distillery-2008-12-year-old-the-whisky-exchange/\n",
      "URL #14: http://scotchwhiskyauctions.com/auctions/181-the-137th-auction/605049-av-wees-amsterdamsche-oude-genever/\n",
      "URL #15: http://scotchwhiskyauctions.com/auctions/181-the-137th-auction/602296-aber-falls-distillery-exclusive/\n",
      "URL #16: http://scotchwhiskyauctions.com/auctions/181-the-137th-auction/609986-aber-falls-inaugural-release/\n",
      "URL #17: http://scotchwhiskyauctions.com/auctions/181-the-137th-auction/603287-aber-falls-inaugural-release/\n",
      "URL #18: http://scotchwhiskyauctions.com/auctions/181-the-137th-auction/608444-aber-falls-inaugural-release/\n",
      "URL #19: http://scotchwhiskyauctions.com/auctions/181-the-137th-auction/608066-aber-falls-inaugural-release-/\n",
      "URL #20: http://scotchwhiskyauctions.com/auctions/181-the-137th-auction/605943-aberfeldy-12-year-old/\n"
     ]
    }
   ],
   "source": [
    "pages_links = []\n",
    "counter = 0\n",
    "for url in full_links:\n",
    "\n",
    "    getting_whiskey_info = requests.get(url)\n",
    "\n",
    "    if getting_whiskey_info.status_code == 200:  # status code 200 is a response indicating the request was successful. \n",
    "        print(f\"URL #{counter+1}: {url}\")  # To see what weve requested so far successfully.\n",
    "    else:\n",
    "        print(f\"Status code {getting_whiskey_info.status_code}: Skipping URL #{counter+1}\")   # The reason its i+1 one is because we dont increment till the end of the loop, so the current iteration actually needs incrementing. \n",
    "        counter += 1\n",
    "        continue  # This else statement is essentially saying if the request wasnt successful continue onto the next element. \n",
    "\n",
    "    bottle_content = getting_whiskey_info.content # The content i think\n",
    "    \n",
    "    individual_bottles_soup = BeautifulSoup(bottle_content, \"html.parser\")\n",
    "    \n",
    "    bottles_pars = individual_bottles_soup.find_all(\"p\") #  storing all paragraph tags in a variable. \n",
    "    \n",
    "    text = [p.text for p in bottles_pars] # extracting the text\n",
    "    \n",
    "    pages_links.append(text)\n",
    "    \n",
    "    counter += 1"
   ]
  },
  {
   "cell_type": "code",
   "execution_count": 15,
   "metadata": {},
   "outputs": [
    {
     "name": "stdout",
     "output_type": "stream",
     "text": [
      "['Lot number: 137-07769', 'Price: £39.', 'This lot is no longer available for sale.', \"Still in family hands since it was founded, the Glenfarclas Distillery is one of Speyside's independent whisky producers. The Grant family has been running Glenfarclas since 1860, producing an individual Speyside malt that many whisky enthusiasts number as one of their favourites. The water source is melt water from the slopes of Ben Rinnes which runs through granite and heather before reaching Glenfarclas (meaning 'the valley of green grass'). With a long history of bottlings stretching back to the early 20th Century, both proprietary and independent bottlings are much sought-after.\", 'This 8 Year Old was bottled for The Real Drinks Company for the Whisky Over Ice Festival 2022.', 'Bottled: 03.05.2022', 'Age: 8 Years Old', '48.8% ABV / 70cl', 'Bottle Number: One of only 600 bottles released', 'Please note buyers premium does not apply to these bottles.', 'Please examine all images of the lot, any packaging and labels carefully and satisfy yourself as to their condition before making a bid.', 'Scotch Whisky Auctions Ltd, Unit C, 139 Lancefield Street, Glasgow G3 8HZ.', 'Registered in Scotland, no SC383924. VAT number 139 9961 52.', 'Facebook • Instagram', 'Terms and conditions • Privacy/cookies • Customer service • Delivery • Returns', 'Tel 0141 243 2585 • Email mail@scotchwhiskyauctions.com', 'Responsive website design and development by fuzzylime.']\n"
     ]
    }
   ],
   "source": [
    "print(pages_links[0])"
   ]
  },
  {
   "cell_type": "code",
   "execution_count": 10,
   "metadata": {},
   "outputs": [
    {
     "name": "stdout",
     "output_type": "stream",
     "text": [
      "info: Lot number: 137-07769\n",
      "info: Price: £39.\n",
      "info: This lot is no longer available for sale.\n",
      "info: Still in family hands since it was founded, the Glenfarclas Distillery is one of Speyside's independent whisky producers. The Grant family has been running Glenfarclas since 1860, producing an individual Speyside malt that many whisky enthusiasts number as one of their favourites. The water source is melt water from the slopes of Ben Rinnes which runs through granite and heather before reaching Glenfarclas (meaning 'the valley of green grass'). With a long history of bottlings stretching back to the early 20th Century, both proprietary and independent bottlings are much sought-after.\n",
      "info: This 8 Year Old was bottled for The Real Drinks Company for the Whisky Over Ice Festival 2022.\n",
      "info: Bottled: 03.05.2022\n",
      "info: Age: 8 Years Old\n",
      "info: 48.8% ABV / 70cl\n",
      "info: Bottle Number: One of only 600 bottles released\n",
      "info: Please note buyers premium does not apply to these bottles.\n",
      "info: Please examine all images of the lot, any packaging and labels carefully and satisfy yourself as to their condition before making a bid.\n",
      "info: Scotch Whisky Auctions Ltd, Unit C, 139 Lancefield Street, Glasgow G3 8HZ.\n",
      "info: Registered in Scotland, no SC383924. VAT number 139 9961 52.\n",
      "info: Facebook • Instagram\n",
      "info: Terms and conditions • Privacy/cookies • Customer service • Delivery • Returns\n",
      "info: Tel 0141 243 2585 • Email mail@scotchwhiskyauctions.com\n",
      "info: Responsive website design and development by fuzzylime.\n"
     ]
    }
   ],
   "source": [
    "first_values = []\n",
    "for bottle in pages_links[0]:\n",
    "    print(\"info:\", bottle)\n",
    "    first_values.append(bottle)    # To give a clearer idea of what they are made up of. "
   ]
  },
  {
   "cell_type": "code",
   "execution_count": 13,
   "metadata": {},
   "outputs": [],
   "source": [
    "#put_together = list(zip(bottle_ids, bottle_names, all_bottles_prices, full_links))\n",
    "#print(put_together)"
   ]
  }
 ],
 "metadata": {
  "kernelspec": {
   "display_name": "Python 3",
   "language": "python",
   "name": "python3"
  },
  "language_info": {
   "codemirror_mode": {
    "name": "ipython",
    "version": 3
   },
   "file_extension": ".py",
   "mimetype": "text/x-python",
   "name": "python",
   "nbconvert_exporter": "python",
   "pygments_lexer": "ipython3",
   "version": "3.10.5"
  },
  "orig_nbformat": 4,
  "vscode": {
   "interpreter": {
    "hash": "e840f835684bb817df5906e8ed510f836174b639f32d5b8a3998d784828aaa2b"
   }
  }
 },
 "nbformat": 4,
 "nbformat_minor": 2
}
